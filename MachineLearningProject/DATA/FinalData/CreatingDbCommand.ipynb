{
 "cells": [
  {
   "cell_type": "code",
   "execution_count": 12,
   "metadata": {
    "collapsed": false
   },
   "outputs": [],
   "source": [
    "import csv\n",
    "text_file = open(\"create_tables.txt\", \"w\")\n",
    "table_name = ['Allahabad','Ghaziabad','Chennai','Delhi','Kolkatta']\n",
    "\n",
    "for string in table_name:\n",
    "    table = string + '.csv'\n",
    "    with open(table, 'rb') as csvfile:\n",
    "        reader = csv.reader(csvfile, delimiter=',',quotechar='\"')\n",
    "        table_coloumn=next(reader)\n",
    "        q=(\"create table %s(%s int(4),%s float(10),%s float(10),%s float(10),%s float(10),%s float(10),%s float(10),%s float(10),%s float(10));\"\n",
    "           %(string,table_coloumn[0],table_coloumn[1],table_coloumn[2],table_coloumn[3],table_coloumn[4],table_coloumn[5],table_coloumn[6],table_coloumn[7],table_coloumn[8]))\n",
    "        text_file.write(\"%s \\n\"%q)\n",
    "        for i in range(102):\n",
    "            row = next(reader)      \n",
    "            q = (\"insert into %s values(%s,%s,%s,%s,%s,%s,%s,%s,%s);\"%(string,row[0],row[1],row[2],row[3],row[4],row[5],row[6],row[7],row[8]))\n",
    "            text_file.write(\"%s \\n\"%q)    \n",
    "text_file.close()\n",
    "csvfile.close()\n"
   ]
  },
  {
   "cell_type": "code",
   "execution_count": 5,
   "metadata": {
    "collapsed": false
   },
   "outputs": [
    {
     "ename": "IOError",
     "evalue": "[Errno 2] No such file or directory: 'Ghazibad.csv'",
     "output_type": "error",
     "traceback": [
      "\u001b[1;31m---------------------------------------------------------------------------\u001b[0m",
      "\u001b[1;31mIOError\u001b[0m                                   Traceback (most recent call last)",
      "\u001b[1;32m<ipython-input-5-e2fdd7d78146>\u001b[0m in \u001b[0;36m<module>\u001b[1;34m()\u001b[0m\n\u001b[0;32m      2\u001b[0m \u001b[1;32mfor\u001b[0m \u001b[0mname\u001b[0m \u001b[1;32min\u001b[0m \u001b[0mtable_name\u001b[0m\u001b[1;33m:\u001b[0m\u001b[1;33m\u001b[0m\u001b[0m\n\u001b[0;32m      3\u001b[0m     \u001b[0mw\u001b[0m\u001b[1;33m=\u001b[0m \u001b[0mname\u001b[0m \u001b[1;33m+\u001b[0m \u001b[1;34m'.csv'\u001b[0m\u001b[1;33m\u001b[0m\u001b[0m\n\u001b[1;32m----> 4\u001b[1;33m     \u001b[1;32mwith\u001b[0m \u001b[0mopen\u001b[0m\u001b[1;33m(\u001b[0m\u001b[0mw\u001b[0m\u001b[1;33m,\u001b[0m\u001b[1;34m'rb'\u001b[0m\u001b[1;33m)\u001b[0m \u001b[1;32mas\u001b[0m \u001b[0mfilex\u001b[0m\u001b[1;33m:\u001b[0m\u001b[1;33m\u001b[0m\u001b[0m\n\u001b[0m\u001b[0;32m      5\u001b[0m         \u001b[0mfilex\u001b[0m\u001b[1;33m.\u001b[0m\u001b[0mclose\u001b[0m\u001b[1;33m(\u001b[0m\u001b[1;33m)\u001b[0m\u001b[1;33m\u001b[0m\u001b[0m\n",
      "\u001b[1;31mIOError\u001b[0m: [Errno 2] No such file or directory: 'Ghazibad.csv'"
     ]
    }
   ],
   "source": [
    "table_name = ['Allahabad','Ghazibad','Chennai','Delhi','Kolkatta']\n",
    "for name in table_name:\n",
    "    w= name + '.csv'\n",
    "    with open(w,'rb') as filex:\n",
    "        filex.close()"
   ]
  },
  {
   "cell_type": "code",
   "execution_count": null,
   "metadata": {
    "collapsed": true
   },
   "outputs": [],
   "source": []
  }
 ],
 "metadata": {
  "kernelspec": {
   "display_name": "Python 3",
   "language": "python",
   "name": "python3"
  },
  "language_info": {
   "codemirror_mode": {
    "name": "ipython",
    "version": 3
   },
   "file_extension": ".py",
   "mimetype": "text/x-python",
   "name": "python",
   "nbconvert_exporter": "python",
   "pygments_lexer": "ipython3",
   "version": "3.5.1"
  }
 },
 "nbformat": 4,
 "nbformat_minor": 0
}
