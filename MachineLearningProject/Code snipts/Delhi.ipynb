{
 "cells": [
  {
   "cell_type": "markdown",
   "metadata": {},
   "source": [
    "# 1. Annual Rainfall Analysis of delhi \n",
    "<p> Here we build two function one is Build_Ann_Data_Set() and  AnnAnalysis(). The \n",
    "Build_Data_Set() function is used to create a feature and response variable. The data is read from the database named NewSave having data of over 100 years. It return feature and response variable to analysis funtion in form of x and y .  The AnnAnalysis() is used to analyse and making annual rainfall model using multiple regression analysis. The preformance Metrics is used to measure model performance are - </p>\n",
    "### Annual Rainfall Analysis Summary\n",
    "<ul>\n",
    "<li>The regression line is (Annual_Rain =-2999.16 + 1.23 * Year + 31.71 * Ann_wdf + 1.56 * Ann_Mtemp + (-0.413 *Ann_Cloud))</li>\n",
    " <li>The cofficient of detrmination is R2Score 0.810116191962</li>\n",
    " <li> Mean absolute Error 47.6163509082 </li>\n",
    " <li>Mean squared Error 4162.60690316 </li>\n",
    " <li>Root mean squared Error 64.5182679802</li>\n",
    "</ul>\n",
    "\n",
    "###  Monsoon Rainfall Analysis Summary\n",
    "<ul>\n",
    "<li>The regression line is (Annual_Rain =-1113.59 + 0.092 * Year + 48.53 * Jun_Sep_wdf + 1.413 * Jun_Sep_Mtemp + 0.83 *Jun_Sep_Cloud)</li>\n",
    " <li>The cofficient of detrmination is R2Score 0.83</li>\n",
    " <li> Mean absolute Error 55.1481704887 </li>\n",
    " <li>Mean squared Error 4155.20149167 </li>\n",
    " <li>Root mean squared Error 64.4608523964</li>\n",
    "</ul>\n",
    " "
   ]
  },
  {
   "cell_type": "code",
   "execution_count": 17,
   "metadata": {
    "collapsed": false
   },
   "outputs": [
    {
     "name": "stdout",
     "output_type": "stream",
     "text": [
      "-2999.16598031\n",
      "[  1.23301013  31.71316744   1.5611327   -0.4139157 ]\n",
      "0.810116191962\n",
      "47.6163509082\n",
      "4162.60690316\n",
      "64.5182679802\n",
      "-1113.58868579\n",
      "[  0.09194471  48.52612838   1.41391838   0.83028445]\n",
      "0.831541885719\n",
      "55.1481704887\n",
      "4155.20149167\n",
      "64.4608523964\n"
     ]
    }
   ],
   "source": [
    "import pandas as pd\n",
    "import numpy as np\n",
    "import matplotlib.pyplot as plt\n",
    "import pymysql as  db\n",
    "import pandas.io.sql as psql\n",
    "\n",
    "con = db.connect('localhost','root' ,'vaibhav','NewSave')\n",
    "\n",
    "def Build_Ann_Data_Set_Delhi(state):\n",
    "    sql = \"SELECT * FROM Delhi %s\"%state\n",
    "    data = psql.read_sql(sql, con )\n",
    "    #data = pd.read_excel(\"G:/Gzb/Ugzb.xlsx\")\n",
    "    feat = ['Year', 'Ann_Wdf' , 'Ann_Mtemp','Ann_Cloud']\n",
    "    x = data[feat]\n",
    " \n",
    "    tar = np.array(data['Annual_Rain'])\n",
    "    y = pd.Series(tar)\n",
    "    return x,y\n",
    "\n",
    "def Build_Mon_Data_Set_Delhi(state):\n",
    "    sql = \"SELECT * FROM %s \"%state\n",
    "    data = psql.read_sql(sql, con )\n",
    "    #data = pd.read_excel(\"G:/Gzb/Ugzb.xlsx\")\n",
    "    feat = ['Year', 'Jun_Sep_Wdf' , 'Jun_Sep_Mtemp','Jun_Sep_Cloud']\n",
    "    x = data[feat]\n",
    " \n",
    "    tar = np.array(data['Jun_Sep_Rain'])\n",
    "    y = pd.Series(tar)\n",
    "    return x,y\n",
    "\n",
    "def AnnAnalysis():\n",
    "    x,y = Build_Ann_Data_Set_Delhi(\"Delhi\")\n",
    "    from sklearn.cross_validation import train_test_split\n",
    "    x_train, x_test, y_train, y_test = train_test_split(x ,y ,test_size=20, random_state=14)\n",
    "    from sklearn.linear_model import LinearRegression\n",
    "\n",
    "    lreg = LinearRegression()\n",
    "    lreg.fit(x_train, y_train )\n",
    "    ypred = lreg.predict(x_test)\n",
    "    print(lreg.intercept_)\n",
    "    print(lreg.coef_)\n",
    "    from sklearn.metrics import r2_score\n",
    "    \n",
    "    print(r2_score(y_test, ypred))\n",
    "    from sklearn import metrics\n",
    "    print(metrics.mean_absolute_error(y_test , ypred))\n",
    "    print(metrics.mean_squared_error(y_test , ypred))\n",
    "    print(np.sqrt(metrics.mean_squared_error(y_test , ypred)))\n",
    "    \n",
    "def MonAnalysisDelhi():\n",
    "    x,y = Build_Mon_Data_Set_Delhi(\"Delhi\")\n",
    "    from sklearn.cross_validation import train_test_split\n",
    "    x_train, x_test, y_train, y_test = train_test_split(x ,y ,test_size=20, random_state=1)\n",
    "    from sklearn.linear_model import LinearRegression\n",
    "\n",
    "    lreg = LinearRegression()\n",
    "    lreg.fit(x_train, y_train )\n",
    "    ypred = lreg.predict(x_test)\n",
    "    print(lreg.intercept_)\n",
    "    print(lreg.coef_)\n",
    "    from sklearn.metrics import r2_score\n",
    "    print(r2_score(y_test, ypred))\n",
    "    from sklearn import metrics\n",
    "    print(metrics.mean_absolute_error(y_test , ypred))\n",
    "    print(metrics.mean_squared_error(y_test , ypred))\n",
    "    print(np.sqrt(metrics.mean_squared_error(y_test , ypred)))\n",
    "\n",
    "    \n",
    "AnnAnalysis()\n",
    "MonAnalysisDelhi()"
   ]
  },
  {
   "cell_type": "code",
   "execution_count": null,
   "metadata": {
    "collapsed": false
   },
   "outputs": [],
   "source": [
    "def Wet_Day_Analysis():\n",
    "    sql = \"SELECT Ann_Wdf ,Year FROM Delhi \"\n",
    "    cloud_data = psql.read_sql(sql, con )\n",
    "    x = cloud_data[['Year']]\n",
    "    y = cloud_data[['Ann_Wdf']]\n",
    "    from sklearn.cross_validation import train_test_split\n",
    "    x_train, x_test, y_train, y_test = train_test_split(x ,y ,test_size=20, random_state=19)\n",
    "    from sklearn.linear_model import LinearRegression\n",
    "    wdfreg = LinearRegression()\n",
    "    wdfreg.fit(x_train, y_train )\n",
    "    ypred = wdfreg.predict(x_test)\n",
    "    #print(wdfreg.intercept_)\n",
    "    #print(wdfreg.coef_)\n",
    "    from sklearn.metrics import r2_score\n",
    "    #print(r2_score(y_test, ypred))\n",
    "    from sklearn import metrics\n",
    "    #print(metrics.mean_absolute_error(y_test , ypred))\n",
    "    #print(metrics.mean_squared_error(y_test , ypred))\n",
    "    #print(np.sqrt(metrics.mean_squared_error(y_test , ypred)))\n",
    "    #yr = float(input(\"Enter year\"))\n",
    "    t = wdfreg.predict(yr)\n",
    "    #print(w)\n",
    "    #print(type(w))\n",
    "    return t "
   ]
  },
  {
   "cell_type": "code",
   "execution_count": null,
   "metadata": {
    "collapsed": true
   },
   "outputs": [],
   "source": []
  }
 ],
 "metadata": {
  "kernelspec": {
   "display_name": "Python 3",
   "language": "python",
   "name": "python3"
  },
  "language_info": {
   "codemirror_mode": {
    "name": "ipython",
    "version": 3
   },
   "file_extension": ".py",
   "mimetype": "text/x-python",
   "name": "python",
   "nbconvert_exporter": "python",
   "pygments_lexer": "ipython3",
   "version": "3.5.1"
  }
 },
 "nbformat": 4,
 "nbformat_minor": 0
}
