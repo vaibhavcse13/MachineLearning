{
 "cells": [
  {
   "cell_type": "code",
   "execution_count": 3,
   "metadata": {
    "collapsed": false
   },
   "outputs": [
    {
     "name": "stdout",
     "output_type": "stream",
     "text": [
      "4004.32983717\n",
      "[  0.27570408  -2.41724744 -45.46312238   5.08337824]\n",
      "0.630999453042\n",
      "84.0701126205\n",
      "11681.2290163\n",
      "108.079734531\n"
     ]
    }
   ],
   "source": [
    "import pandas as pd\n",
    "import numpy as np\n",
    "import matplotlib.pyplot as plt\n",
    "from sklearn.cross_validation import train_test_split\n",
    "from sklearn.linear_model import LinearRegression\n",
    "from sklearn imports metrics \n",
    "from sklearn.metrics import r2_score\n",
    "\n",
    "\n",
    "def Build_Data_Set():\n",
    "    data = pd.read_excel(\"G:/Gzb/Ugzb.xlsx\")\n",
    "    feat = ['Year', 'Wdf' , 'T','Cloud']\n",
    "    x = data[feat]\n",
    " \n",
    "    tar = np.array(data['Jun-Sep'])\n",
    "    y = pd.Series(tar)\n",
    "    return x,y\n",
    "\n",
    "def Analysis():\n",
    "    x,y = Build_Data_Set()\n",
    "    from sklearn.cross_validation import train_test_split\n",
    "    x_train, x_test, y_train, y_test = train_test_split(x ,y ,test_size=20, random_state=1)\n",
    "    from sklearn.linear_model import LinearRegression\n",
    "\n",
    "    lreg = LinearRegression()\n",
    "    lreg.fit(x_train, y_train )\n",
    "    ypred = lreg.predict(x_test)\n",
    "    print(lreg.intercept_)\n",
    "    print(lreg.coef_)\n",
    "    from sklearn.metrics import r2_score\n",
    "    print(r2_score(y_test, ypred))\n",
    "    from sklearn import metrics\n",
    "    print(metrics.mean_absolute_error(y_test , ypred))\n",
    "    print(metrics.mean_squared_error(y_test , ypred))\n",
    "    print(np.sqrt(metrics.mean_squared_error(y_test , ypred)))\n",
    "\n",
    "    \n",
    "Analysis()\n"
   ]
  },
  {
   "cell_type": "code",
   "execution_count": 4,
   "metadata": {
    "collapsed": false
   },
   "outputs": [
    {
     "name": "stdout",
     "output_type": "stream",
     "text": [
      "[ 153.61962002]\n",
      "[[ 0.02678417]]\n",
      "0.0322998452122\n",
      "7.42152286205\n",
      "88.8800409828\n",
      "9.42762117307\n",
      "Enter year2003\n",
      "[[ 207.26831507]]\n",
      "<class 'numpy.ndarray'>\n"
     ]
    }
   ],
   "source": [
    "def Build_Cloud():\n",
    "    cloud_data = pd.read_excel(\"G:/Gzb/Ugzb.xlsx\")\n",
    "    x = cloud_data[['Year']]\n",
    "    y = cloud_data[['Cloud']]\n",
    "    from sklearn.cross_validation import train_test_split\n",
    "    x_train, x_test, y_train, y_test = train_test_split(x ,y ,test_size=20, random_state=10)\n",
    "    from sklearn.linear_model import LinearRegression\n",
    "    cldreg = LinearRegression()\n",
    "    cldreg.fit(x_train, y_train )\n",
    "    ypred = cldreg.predict(x_test)\n",
    "    print(cldreg.intercept_)\n",
    "    print(cldreg.coef_)\n",
    "    from sklearn.metrics import r2_score\n",
    "    print(r2_score(y_test, ypred))\n",
    "    from sklearn import metrics\n",
    "    print(metrics.mean_absolute_error(y_test , ypred))\n",
    "    print(metrics.mean_squared_error(y_test , ypred))\n",
    "    print(np.sqrt(metrics.mean_squared_error(y_test , ypred)))\n",
    "    yr = float(input(\"Enter year\"))\n",
    "    c = cldreg.predict(yr)\n",
    "    print(c)\n",
    "    print(type(c))\n",
    "\n",
    "    \n",
    "    \n",
    "    \n",
    "\n",
    "Build_Cloud()\n",
    "    \n",
    "\n",
    "\n"
   ]
  },
  {
   "cell_type": "code",
   "execution_count": 5,
   "metadata": {
    "collapsed": false
   },
   "outputs": [
    {
     "name": "stdout",
     "output_type": "stream",
     "text": [
      "[ 33.04076346]\n",
      "[[ -3.23678818e-04   7.31858251e-01]]\n",
      "0.803180019968\n",
      "0.951087339162\n",
      "1.34075495721\n",
      "1.15790973621\n"
     ]
    }
   ],
   "source": [
    "def Wet_Day_Analysis():\n",
    "    cloud_data = pd.read_excel(\"G:/Gzb/Ugzb.xlsx\")\n",
    "    x = cloud_data[['Year' ,'T']]\n",
    "    y = cloud_data[['Wdf']]\n",
    "    from sklearn.cross_validation import train_test_split\n",
    "    x_train, x_test, y_train, y_test = train_test_split(x ,y ,test_size=20, random_state=14)\n",
    "    from sklearn.linear_model import LinearRegression\n",
    "    wdfreg = LinearRegression()\n",
    "    wdfreg.fit(x_train, y_train )\n",
    "    ypred = wdfreg.predict(x_test)\n",
    "    print(wdfreg.intercept_)\n",
    "    print(wdfreg.coef_)\n",
    "    from sklearn.metrics import r2_score\n",
    "    print(r2_score(y_test, ypred))\n",
    "    from sklearn import metrics\n",
    "    print(metrics.mean_absolute_error(y_test , ypred))\n",
    "    print(metrics.mean_squared_error(y_test , ypred))\n",
    "    print(np.sqrt(metrics.mean_squared_error(y_test , ypred)))\n",
    "    \n",
    "Wet_Day_Analysis()"
   ]
  },
  {
   "cell_type": "code",
   "execution_count": 6,
   "metadata": {
    "collapsed": false
   },
   "outputs": [
    {
     "name": "stdout",
     "output_type": "stream",
     "text": [
      "[ 142.09757019]\n",
      "[[-0.019168]]\n",
      "0.0139696699263\n",
      "1.99031440635\n",
      "6.95588967186\n",
      "2.63740206868\n",
      "Enter year2003\n",
      "[[ 103.70407366]]\n",
      "<class 'numpy.ndarray'>\n"
     ]
    }
   ],
   "source": [
    "def Temp_Analysis():\n",
    "    cloud_data = pd.read_excel(\"G:/Gzb/Ugzb.xlsx\")\n",
    "    x = cloud_data[['Year']]\n",
    "    y = cloud_data[['T']]\n",
    "    from sklearn.cross_validation import train_test_split\n",
    "    x_train, x_test, y_train, y_test = train_test_split(x ,y ,test_size=20, random_state=None)\n",
    "    from sklearn.linear_model import LinearRegression\n",
    "    treg = LinearRegression()\n",
    "    treg.fit(x_train, y_train )\n",
    "    ypred = treg.predict(x_test)\n",
    "    print(treg.intercept_)\n",
    "    print(treg.coef_)\n",
    "    from sklearn.metrics import r2_score\n",
    "    print(r2_score(y_test, ypred))\n",
    "    from sklearn import metrics\n",
    "    print(metrics.mean_absolute_error(y_test , ypred))\n",
    "    print(metrics.mean_squared_error(y_test , ypred))\n",
    "    print(np.sqrt(metrics.mean_squared_error(y_test , ypred)))\n",
    "    yr = float(input(\"Enter year\"))\n",
    "    t = treg.predict(yr)\n",
    "    print(t)\n",
    "    print(type(t))\n",
    "    \n",
    "Temp_Analysis()"
   ]
  },
  {
   "cell_type": "code",
   "execution_count": 9,
   "metadata": {
    "collapsed": false
   },
   "outputs": [
    {
     "name": "stdout",
     "output_type": "stream",
     "text": [
      "[ 136.50051762]\n",
      "[[-0.01411423]]\n",
      "0.106584614671\n",
      "1.423037347\n",
      "3.68735352715\n",
      "1.92024829831\n",
      "Enter year2003\n",
      "[[ 108.22971328]]\n",
      "<class 'numpy.ndarray'>\n"
     ]
    }
   ],
   "source": [
    "def Wet_Day_Analysis():\n",
    "    cloud_data = pd.read_excel(\"G:/Gzb/Ugzb.xlsx\")\n",
    "    x = cloud_data[['Year']]\n",
    "    y = cloud_data[['Wdf']]\n",
    "    from sklearn.cross_validation import train_test_split\n",
    "    x_train, x_test, y_train, y_test = train_test_split(x ,y ,test_size=20, random_state=19)\n",
    "    from sklearn.linear_model import LinearRegression\n",
    "    wdfreg = LinearRegression()\n",
    "    wdfreg.fit(x_train, y_train )\n",
    "    ypred = wdfreg.predict(x_test)\n",
    "    print(wdfreg.intercept_)\n",
    "    print(wdfreg.coef_)\n",
    "    from sklearn.metrics import r2_score\n",
    "    print(r2_score(y_test, ypred))\n",
    "    from sklearn import metrics\n",
    "    print(metrics.mean_absolute_error(y_test , ypred))\n",
    "    print(metrics.mean_squared_error(y_test , ypred))\n",
    "    print(np.sqrt(metrics.mean_squared_error(y_test , ypred)))\n",
    "    yr = float(input(\"Enter year\"))\n",
    "    w = wdfreg.predict(yr)\n",
    "    print(w)\n",
    "    print(type(w))\n",
    "    \n",
    "Wet_Day_Analysis()"
   ]
  },
  {
   "cell_type": "code",
   "execution_count": 18,
   "metadata": {
    "collapsed": false
   },
   "outputs": [
    {
     "name": "stdout",
     "output_type": "stream",
     "text": [
      "4004.32983717\n",
      "[  0.27570408  -2.41724744 -45.46312238   5.08337824]\n",
      "0.630999453042\n",
      "84.0701126205\n",
      "11681.2290163\n",
      "108.079734531\n",
      "[  0.27570408  -2.41724744 -45.46312238   5.08337824]\n",
      "4004.32983717\n",
      "[ 634.26725264]\n"
     ]
    },
    {
     "name": "stderr",
     "output_type": "stream",
     "text": [
      "C:\\Users\\vaibhav\\Anaconda3\\lib\\site-packages\\sklearn\\utils\\validation.py:386: DeprecationWarning: Passing 1d arrays as data is deprecated in 0.17 and willraise ValueError in 0.19. Reshape your data either using X.reshape(-1, 1) if your data has a single feature or X.reshape(1, -1) if it contains a single sample.\n",
      "  DeprecationWarning)\n"
     ]
    }
   ],
   "source": [
    "def Analysis():\n",
    "    x,y = Build_Data_Set()\n",
    "    from sklearn.cross_validation import train_test_split\n",
    "    x_train, x_test, y_train, y_test = train_test_split(x ,y ,test_size=20, random_state=1)\n",
    "    from sklearn.linear_model import LinearRegression\n",
    "\n",
    "    lreg = LinearRegression()\n",
    "    z = lreg.fit(x_train, y_train )\n",
    "    ypred = z.predict(x_test)\n",
    "    print(z.intercept_)\n",
    "    print(z.coef_)\n",
    "    from sklearn.metrics import r2_score\n",
    "    print(r2_score(y_test, ypred))\n",
    "    from sklearn import metrics\n",
    "    print(metrics.mean_absolute_error(y_test , ypred))\n",
    "    print(metrics.mean_squared_error(y_test , ypred))\n",
    "    print(np.sqrt(metrics.mean_squared_error(y_test , ypred)))\n",
    "    return z\n",
    "\n",
    "def Prediction():\n",
    "    z = Analysis()\n",
    "    print(z.coef_)\n",
    "    print(z.intercept_)\n",
    "    \n",
    "    x = np.array([2003 ,108.23 , 103.74 , 207.67])\n",
    "    \n",
    "    y = z.predict(x)\n",
    "    print(y)\n",
    "    \n",
    "    \n",
    "Prediction()\n"
   ]
  },
  {
   "cell_type": "code",
   "execution_count": null,
   "metadata": {
    "collapsed": true
   },
   "outputs": [],
   "source": []
  }
 ],
 "metadata": {
  "kernelspec": {
   "display_name": "Python 3",
   "language": "python",
   "name": "python3"
  },
  "language_info": {
   "codemirror_mode": {
    "name": "ipython",
    "version": 3
   },
   "file_extension": ".py",
   "mimetype": "text/x-python",
   "name": "python",
   "nbconvert_exporter": "python",
   "pygments_lexer": "ipython3",
   "version": "3.5.1"
  }
 },
 "nbformat": 4,
 "nbformat_minor": 0
}
